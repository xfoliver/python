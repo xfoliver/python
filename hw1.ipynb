{
 "cells": [
  {
   "cell_type": "markdown",
   "metadata": {},
   "source": [
    "# DS 3000 HW 1 \n",
    "Due: Sunday July 7th @ 11:59 PM EST\n",
    "\n",
    "### Submission Instructions\n",
    "Submit this `ipynb` file to Gradescope (this can also be done via the assignment on Canvas).  To ensure that your submitted files represent your latest code, make sure to give a fresh `Kernel > Restart & Run All` just before uploading the files to gradescope.\n",
    "\n",
    "### Tips for success\n",
    "- Start early\n",
    "- Make use of Piazza\n",
    "- Make use of Office hour\n",
    "- Remember to use cells and headings to make the notebook easy to read (if a grader cannot find the answer to a problem, you will receive no points for it)\n",
    "- Under no circumstances may one student view or share their ungraded homework or quiz with another student [(see also)](http://www.northeastern.edu/osccr/academic-integrity), though you are welcome to **talk about** (not show each other) the problems."
   ]
  },
  {
   "cell_type": "markdown",
   "metadata": {},
   "source": [
    "## Part 1 (20 points): \n",
    "Use the markdown language below to create your own brief wikipedia-esque description of any subject of interest. \n",
    "\n",
    "Your mini-wiki page must include:\n",
    "- three headers: a title, subtitle and subsubtitle (the #, ##, ### syntax)\n",
    "- an embedded image from a web address (use an [image hosting site](https://makeawebsitehub.com/free-photo-hosting/) if you'd like to upload your own)\n",
    "- a table of size at least 3 rows x 3 columns (needn't be correct, but must make sense)\n",
    "- a list\n",
    "- a link to another website\n",
    "\n",
    "Please be brief in your text.  Aim for roughly 3 sentences total of text.  We won't grade based on content, but keep it appropriate for class.  If you make the grader smile, no extra credit will be awarded beyond the satisfaction of having made somebody's day better :)"
   ]
  },
  {
   "cell_type": "markdown",
   "metadata": {},
   "source": [
    "# Cyberpunk2077\n",
    "![movieImage](https://upload.wikimedia.org/wikipedia/en/9/9f/Cyberpunk_2077_box_art.jpg)\n",
    "## Introduction\n",
    "Cyberpunk 2077 is an open-world, action-adventure RPG developed by CD Projekt Red. Set in the dystopian Night City, the game allows players to explore a richly detailed world filled with quests and characters.\n",
    "### GamePlay\n",
    "The gameplay of Cyberpunk 2077 features first-person shooting, hacking, and a complex branching narrative. Players can customize their character, V, and make choices that influence the story's outcome.\n",
    "\n",
    "\n",
    "| Feature       | Description                       | Example                  |\n",
    "|---------------|-----------------------------------|--------------------------|\n",
    "| Open World    | A vast, immersive city to explore | Night City               |\n",
    "| Customization | Deep character customization      | Appearance, Skills       |\n",
    "| Story Choices | Branching narrative paths         | Multiple Endings         |\n",
    "\n",
    "### Awards\n",
    "  +\tGame Critics Awards\n",
    "  +\t2018 Golden Joystick Awards\n",
    "  +\tGame Critics Awards\n",
    "  +\t2019 Golden Joystick Awards\n",
    "  +\t18th Visual Effects Society Awards\n",
    "  +\tGamescom Award 2020\n",
    "\n",
    "\n",
    "(Learn more about [Cyberpunk 2077](https://www.cyberpunk.net/us/zh-cn/).)\n",
    "\n"
   ]
  },
  {
   "cell_type": "markdown",
   "metadata": {},
   "source": [
    "## Part 2.1 (25 points)\n",
    "\n",
    "In [blackjack](https://en.wikipedia.org/wiki/Blackjack), players are given two cards from a [standard deck](https://en.wikipedia.org/wiki/Standard_52-card_deck#Composition) of cards and add their values together.  Values are assigned to cards as:\n",
    "- number cards use their own value\n",
    "- Jack, Queen, King cards all have a value of 10\n",
    "- aces, **in this problem** will always have a value of 1\n",
    "\n",
    "Players may then choose to take as many cards as they'd like, one at a time, to increase the sum of their hand's value.  The goal is to produce a value as high as possible without exceeding 21.  When a player's hand sum increases beyond 21 they are said to 'bust' and they lose the game.\n",
    "\n",
    "The key to playing well is knowing when to stop taking cards.  We'll explore this issue by writing a program to have the computer play many hands of blackjack and count how often they bust."
   ]
  },
  {
   "cell_type": "markdown",
   "metadata": {},
   "source": [
    "Examine the function `draw_value()` below which accepts no inputs and returns the value of some card drawn from a standard deck of cards.  Pay attention to what `random.choices()`, and its `weights` parameter are doing here, as they **may not be used correctly, and you may have to correct them**.\n",
    "\n",
    "\n",
    "Assume that you can use this function to simulate playing blackjack. This would mean you draw cards with replacement, so that its possible to draw the same card many times.  (In practice, this isn't far from the truth as real casinos often draw from a pile of cards containing multiple, shuffled decks to mitigate the effectiveness of [card counting](https://en.wikipedia.org/wiki/Card_counting))."
   ]
  },
  {
   "cell_type": "code",
   "execution_count": 9,
   "metadata": {},
   "outputs": [
    {
     "name": "stdout",
     "output_type": "stream",
     "text": [
      "defaultdict(<class 'int'>, {5: 3983, 3: 4107, 10: 15877, 8: 4044, 4: 4067, 9: 4059, 6: 3998, 1: 3976, 7: 3937, 2: 3952})\n",
      "The results validate that draw_value() works is because of the distribution of each card value is match their weight.\n"
     ]
    }
   ],
   "source": [
    "# first import the random module to use choices\n",
    "import random\n",
    "from collections import defaultdict\n",
    "\n",
    "# create the function\n",
    "def draw_value():\n",
    "    '''draws a single card value\n",
    "    \n",
    "    Args:\n",
    "        none\n",
    "        \n",
    "    Returns:\n",
    "        draw (int): choices(values, weights) #the weights are the number of each amount of values in a deck\n",
    "    '''\n",
    "    values = [1,2,3,4,5,6,7,8,9,10]\n",
    "\n",
    "    #First, correct the issue(s) with the draw_value() function from the first part of this problem (5 points)\n",
    "    # The issue(s) with the draw_value() function is that the weight of 10 shouldn't be 4\n",
    "    # because the J Q K all have value of 10, so the weight of 10 should be 16\n",
    "    weights=[4,4,4,4,4,4,4,4,4,16]\n",
    "    #Ensure the choices return a single number not the list.\n",
    "    draw = random.choices(values, weights = weights, k = 1)[0]\n",
    "\n",
    "    return draw\n",
    "\n",
    "#Sample 52000 values from draw_value() (10 points)\n",
    "#record how many times you observe each card in a defaultdict named card_count (5 points)\n",
    "card_count = defaultdict(int)\n",
    "for _ in range(52000):\n",
    "    card = draw_value()\n",
    "    card_count[card] += 1\n",
    "\n",
    "#print card_count (2 points)\n",
    "print(card_count)\n",
    "\n",
    "#write one sentence which explains why your results validate that draw_value() works (3 points)\n",
    "print('The results validate that draw_value() works is because of the distribution of each card value is match their weight.')\n"
   ]
  },
  {
   "cell_type": "markdown",
   "metadata": {},
   "source": [
    "Its challenging to test a function which returns a random value, by design it gives different values!  If we sample many cards from `draw_value()`, we'd expect to see that the total number of cards drawn are distributed, roughly, to our expectation.\n",
    "\n",
    "- First, correct the issue(s) with the `draw_value()` function from the first part of this problem (5 points)\n",
    "- Sample 52000 values from `draw_value()` (10 points)\n",
    "- record how many times you observe each card in a `defaultdict` named `card_count` (5 points)\n",
    "- print `card_count` (2 points)\n",
    "- write one sentence which explains why your results validate that `draw_value()` works (3 points)"
   ]
  },
  {
   "cell_type": "markdown",
   "metadata": {},
   "source": [
    "## Part 2.2 (25 pts)\n",
    "\n",
    "One of the big questions facing blackjack players is, \"Given that my hand already has a value of X, what's the probability that the next card will bust my hand?\".  For every starting hand, we'll estimate this probability by simulating how often a hand goes bust on the next card among many randomly drawn hands.\n",
    "\n",
    "Note: Please make sure the docstring and/or comments are given in proper format\n",
    "and variable names are informative and in proper style. \n",
    "\n",
    "- initialize `bust_given_start` as a defaultdict\n",
    "    - keys are the starting hands\n",
    "    - values will count how many hands went bust\n",
    "    - e.g. `bust_given_start = {19: 100, 15: 42}` indicates that, among all the simulations:\n",
    "        - 100 hands starting at 19 went bust\n",
    "        - 42 hands starting at 15 went bust\n",
    "- for every `start_hand` from 2 to 20:\n",
    "    - draw a single card via `draw_value()`\n",
    "    - record the hand as a bust if the `start_hand` + `card_val` exceeds 21\n",
    "    - repeat the above two steps so that you simulate 10,000 total hands\n",
    "- divide all the values in `bust_given_start` by 10,000\n",
    "    - this normalization allows us to interpret the values of the dictionary as probabilities of going bust\n",
    "- print `bust_given_start` so it may be observed\n",
    "    - print in increasing order of `start_hand`\n",
    "    - Notice that even though we tested `start_hand<=11` many times, none of them appear in `bust_given_start` (no need to change this)\n",
    "        - Explain why in one or two complete sentences\n",
    "    "
   ]
  },
  {
   "cell_type": "code",
   "execution_count": 11,
   "metadata": {},
   "outputs": [
    {
     "name": "stdout",
     "output_type": "stream",
     "text": [
      "Start hand value: 12     Probability of bust:  0.2983\n",
      "Start hand value: 13     Probability of bust:  0.3868\n",
      "Start hand value: 14     Probability of bust:  0.4613\n",
      "Start hand value: 15     Probability of bust:  0.5368\n",
      "Start hand value: 16     Probability of bust:  0.612\n",
      "Start hand value: 17     Probability of bust:  0.691\n",
      "Start hand value: 18     Probability of bust:  0.7653\n",
      "Start hand value: 19     Probability of bust:  0.8458\n",
      "Start hand value: 20     Probability of bust:  0.9277\n",
      "Hands with a starting value of 11 or less are not in the bust_given_start dictionary because they cannot bust by drawing a single card, they need at least two more card to bust.\n"
     ]
    }
   ],
   "source": [
    "#initialize\n",
    "bust_given_start = defaultdict(lambda: 0)\n",
    "\n",
    "#create start_hand\n",
    "start_hand = range(2,21)\n",
    "\n",
    "# simulate 10,000 total hands\n",
    "simulation_frequency = 10000\n",
    "for start_hand in range(2,21):\n",
    "    for _ in range(simulation_frequency):\n",
    "        # draw a single card via draw_value()\n",
    "        card_value = draw_value()\n",
    "        # record the hand as a bust if the start_hand + card_val exceeds 21\n",
    "        if start_hand + card_value > 21:\n",
    "            bust_given_start[start_hand] += 1\n",
    "\n",
    "# calculate probability of bust\n",
    "for start_hand in bust_given_start:\n",
    "    bust_given_start[start_hand] /= simulation_frequency\n",
    "\n",
    "# print bust_given_start so it may be observed\n",
    "# print in increasing order of start_hand\n",
    "for start_hand in sorted(bust_given_start.keys()):\n",
    "    print(\"Start hand value:\" , start_hand, \"   \", \"Probability of bust: \", bust_given_start[start_hand])\n",
    "\n",
    "# explain why none of start_hand<=11 in bust_given_start\n",
    "print(\"Hands with a starting value of 11 or less are not in the bust_given_start dictionary because they cannot bust by drawing a single card, they need at least two more card to bust.\")\n",
    "\n",
    "\n",
    "            \n",
    "        \n",
    "        "
   ]
  },
  {
   "cell_type": "markdown",
   "metadata": {},
   "source": [
    "## Part 3 (30 pts)\n",
    "\n",
    "You are tasked with creating a program that calculates the final grade of a student based on their scores in different subjects. The program should follow these rules:\n",
    "\n",
    "- Ask the user for the student's name.(2 points)\n",
    "- Ask the user for the number of subjects the student has taken. (2 points)\n",
    "- For each subject, ask the user to input the subject name and the student's score (out of 100). (10 points)\n",
    "- Calculate the average score for all subjects. (3 points)\n",
    "- Based on the average score, assign a letter grade to the student using the following grading scale: (10 points)\n",
    "    - A: 90-100\n",
    "    - B: 80-89\n",
    "    - C: 70-79\n",
    "    - D: 60-69\n",
    "    - F: 0-59\n",
    "- Display the student's name, average score, and letter grade. (3 points)"
   ]
  },
  {
   "cell_type": "code",
   "execution_count": 5,
   "metadata": {},
   "outputs": [
    {
     "name": "stdin",
     "output_type": "stream",
     "text": [
      " oliver\n",
      " 2\n",
      " math\n",
      " 80\n",
      " art\n",
      " 100\n"
     ]
    },
    {
     "name": "stdout",
     "output_type": "stream",
     "text": [
      "oliver's final average score: 90.0 , letter grade: A\n"
     ]
    }
   ],
   "source": [
    "# Ask the user for the student's name.\n",
    "student_name = input()\n",
    "# Ask the user for the number of subjects the student has taken.\n",
    "number_of_subjects = int(input())\n",
    "\n",
    "# For each subject, ask the user to input the subject name and the student's score (out of 100).\n",
    "subject_dict = {}\n",
    "for _ in range(number_of_subjects):\n",
    "    subject_name = input()\n",
    "    score = float(input())\n",
    "    subject_dict[subject_name] = score\n",
    "    \n",
    "# Calculate the average score for all subjects.\n",
    "def finalGrade(subject_dict):\n",
    "    total_score = 0\n",
    "    countSubject = 0\n",
    "    for subject_name in subject_dict:\n",
    "        total_score += subject_dict[subject_name]\n",
    "        countSubject += 1 \n",
    "    return total_score / countSubject\n",
    "\n",
    "# Display the student's name, average score, and letter grade.\n",
    "average_score = finalGrade(subject_dict)\n",
    "if 90 <= average_score <= 100:\n",
    "    letter_grade = 'A'\n",
    "elif 80 <= average_score <= 89:\n",
    "    letter_grade = 'B'\n",
    "elif 70 <= average_score <= 79:\n",
    "    letter_grade = 'C'\n",
    "elif 60 <= average_score <= 69:\n",
    "    letter_grade = 'D'\n",
    "elif 50 <= average_score <= 59:\n",
    "    letter_grade = 'F'\n",
    "    \n",
    "print(f\"{student_name}'s final average score: {average_score} , letter grade: {letter_grade}\")\n",
    "\n",
    "\n",
    "\n",
    "\n"
   ]
  },
  {
   "cell_type": "code",
   "execution_count": null,
   "metadata": {},
   "outputs": [],
   "source": []
  }
 ],
 "metadata": {
  "kernelspec": {
   "display_name": "Python 3 (ipykernel)",
   "language": "python",
   "name": "python3"
  },
  "language_info": {
   "codemirror_mode": {
    "name": "ipython",
    "version": 3
   },
   "file_extension": ".py",
   "mimetype": "text/x-python",
   "name": "python",
   "nbconvert_exporter": "python",
   "pygments_lexer": "ipython3",
   "version": "3.12.4"
  }
 },
 "nbformat": 4,
 "nbformat_minor": 4
}
